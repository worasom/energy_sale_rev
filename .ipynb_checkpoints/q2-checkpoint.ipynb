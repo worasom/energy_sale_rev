{
 "cells": [
  {
   "cell_type": "markdown",
   "metadata": {},
   "source": [
    "A sequence of n numbers is considered valid if the sequence begins with 1, ends with a given number j, and no two adjacent numbers are the same. Sequences may use any integers between 1 and a given number k, inclusive (also 1<=j<=k). Given parameters n, j, and k, count the number of valid sequences. The number of valid sequences may be very large, so express your answer modulo 1010+7."
   ]
  },
  {
   "cell_type": "code",
   "execution_count": 1,
   "metadata": {},
   "outputs": [],
   "source": [
    "#import function\n",
    "import numpy as np"
   ]
  },
  {
   "cell_type": "code",
   "execution_count": 2,
   "metadata": {},
   "outputs": [],
   "source": [
    "mo = int(10**10+7)"
   ]
  },
  {
   "cell_type": "code",
   "execution_count": 4,
   "metadata": {},
   "outputs": [
    {
     "data": {
      "text/plain": [
       "27"
      ]
     },
     "execution_count": 4,
     "metadata": {},
     "output_type": "execute_result"
    }
   ],
   "source": [
    "3**3"
   ]
  },
  {
   "cell_type": "code",
   "execution_count": 7,
   "metadata": {},
   "outputs": [
    {
     "data": {
      "text/plain": [
       "21"
      ]
     },
     "execution_count": 7,
     "metadata": {},
     "output_type": "execute_result"
    }
   ],
   "source": [
    "3**3 - 3**2 -  3"
   ]
  },
  {
   "cell_type": "code",
   "execution_count": 6,
   "metadata": {},
   "outputs": [
    {
     "data": {
      "text/plain": [
       "20"
      ]
     },
     "execution_count": 6,
     "metadata": {},
     "output_type": "execute_result"
    }
   ],
   "source": [
    "7+7+6\n"
   ]
  },
  {
   "cell_type": "code",
   "execution_count": 8,
   "metadata": {},
   "outputs": [],
   "source": [
    "k=4"
   ]
  },
  {
   "cell_type": "code",
   "execution_count": 9,
   "metadata": {},
   "outputs": [
    {
     "data": {
      "text/plain": [
       "60"
      ]
     },
     "execution_count": 9,
     "metadata": {},
     "output_type": "execute_result"
    }
   ],
   "source": [
    "(k-1)**4 - (k-1)**3 + (k-1)**2 - (k-1)"
   ]
  },
  {
   "cell_type": "code",
   "execution_count": 21,
   "metadata": {},
   "outputs": [],
   "source": [
    "def base_case(i,j,k):\n",
    "    '''base case n=3'''\n",
    "    if i == j:\n",
    "        return (k-1)\n",
    "    else:\n",
    "        return (k-2)"
   ]
  },
  {
   "cell_type": "code",
   "execution_count": 31,
   "metadata": {},
   "outputs": [
    {
     "name": "stdout",
     "output_type": "stream",
     "text": [
      "7\n"
     ]
    }
   ],
   "source": [
    "k=4\n",
    "j=2\n",
    "total = 0\n",
    "for i in range(2,k+1):\n",
    "    total = total + base_case(i,j,k)\n",
    "    \n",
    "print(total)"
   ]
  },
  {
   "cell_type": "code",
   "execution_count": 75,
   "metadata": {},
   "outputs": [],
   "source": [
    "def find_total(n,k,j,total=0,start=False ):\n",
    "    'n >=4'\n",
    "    for i in range(2,k+1):\n",
    "        if n == 4:\n",
    "            total = total + base_case(i,j,k)\n",
    "        else:\n",
    "            find_total(n-1,k,j) \n",
    "            \n",
    "    return total"
   ]
  },
  {
   "cell_type": "code",
   "execution_count": 78,
   "metadata": {},
   "outputs": [
    {
     "data": {
      "text/plain": [
       "0"
      ]
     },
     "execution_count": 78,
     "metadata": {},
     "output_type": "execute_result"
    }
   ],
   "source": [
    "find_total(n=5,k=4,j=2,total=0)"
   ]
  },
  {
   "cell_type": "code",
   "execution_count": 52,
   "metadata": {},
   "outputs": [],
   "source": [
    "def base_n3(i,y,j):\n",
    "    if i==y or y==j:\n",
    "        return 0\n",
    "    else:\n",
    "        return 1"
   ]
  },
  {
   "cell_type": "code",
   "execution_count": 62,
   "metadata": {},
   "outputs": [
    {
     "name": "stdout",
     "output_type": "stream",
     "text": [
      "3\n"
     ]
    }
   ],
   "source": [
    "k = 5\n",
    "total = 0\n",
    "for y in range(1,k+1):\n",
    "    total = total + base_n3(1,y,2)\n",
    "\n",
    "print(total)"
   ]
  },
  {
   "cell_type": "code",
   "execution_count": 69,
   "metadata": {},
   "outputs": [],
   "source": [
    "def brute_force(m,i,k,j,total=0):\n",
    "    if m ==3:\n",
    "        for y in range(1,k+1):\n",
    "            total = total + base_n3(i,y,j)\n",
    "    \n",
    "    if m>3: \n",
    "        for x in range(1,k+1):\n",
    "            total = total + brute_force(m-1,x,k,j,total)\n",
    "            \n",
    "    return total"
   ]
  },
  {
   "cell_type": "code",
   "execution_count": 74,
   "metadata": {},
   "outputs": [
    {
     "data": {
      "text/plain": [
       "3"
      ]
     },
     "execution_count": 74,
     "metadata": {},
     "output_type": "execute_result"
    }
   ],
   "source": [
    "brute_force(m=3,i=1,k=4,j=1,total=0)"
   ]
  },
  {
   "cell_type": "code",
   "execution_count": 83,
   "metadata": {},
   "outputs": [
    {
     "name": "stdout",
     "output_type": "stream",
     "text": [
      "3 2\n"
     ]
    }
   ],
   "source": [
    "n = 4\n",
    "m = 4 - 1\n",
    "k = 4\n",
    "\n",
    "for i in range(1,m):\n",
    "    if i==1:\n",
    "        num_1 = 0\n",
    "        num_other = 1\n",
    "        \n",
    "    else:\n",
    "        num_new_1 = num_other*(k-1)\n",
    "        num_new_other = num_1 + (k-2)*(num_other)\n",
    "\n",
    "print(num_new_1,num_new_other)"
   ]
  },
  {
   "cell_type": "markdown",
   "metadata": {},
   "source": [
    "# First four problems"
   ]
  },
  {
   "cell_type": "code",
   "execution_count": 181,
   "metadata": {},
   "outputs": [],
   "source": [
    "def forward(n,k,num_1=0,num_oth=1):\n",
    "    '''\n",
    "    n>=3\n",
    "    a base function\n",
    "    return a sequence for both j=1 and j!=1 case\n",
    "    '''\n",
    "    if n==2:\n",
    "        return num_1, num_oth \n",
    "    elif n>2:\n",
    "        num_1_new = num_oth*(k-1) \n",
    "        num_oth_new = num_1 + num_oth*(k-2)\n",
    "        \n",
    "        return forward(n-1,k,num_1_new, num_oth_new)\n",
    "        "
   ]
  },
  {
   "cell_type": "code",
   "execution_count": 182,
   "metadata": {},
   "outputs": [],
   "source": [
    "def use_forward(n,k,j):\n",
    "    '''\n",
    "    n >=3\n",
    "    select a return case \n",
    "    '''\n",
    "    modulo = 10**10+7\n",
    "    if j==1:\n",
    "        print('number of sequency =', forward(n,k)[0]%modulo)\n",
    "    else:\n",
    "        print('number of sequency =', forward(n,k)[1]%modulo)"
   ]
  },
  {
   "cell_type": "code",
   "execution_count": 144,
   "metadata": {},
   "outputs": [
    {
     "name": "stdout",
     "output_type": "stream",
     "text": [
      "7\n"
     ]
    }
   ],
   "source": [
    "use_forward(4,4,2)"
   ]
  },
  {
   "cell_type": "code",
   "execution_count": 145,
   "metadata": {},
   "outputs": [
    {
     "name": "stdout",
     "output_type": "stream",
     "text": [
      "9702\n"
     ]
    }
   ],
   "source": [
    "use_forward(4,100,1)"
   ]
  },
  {
   "cell_type": "code",
   "execution_count": 143,
   "metadata": {},
   "outputs": [
    {
     "name": "stdout",
     "output_type": "stream",
     "text": [
      "7934293301\n"
     ]
    }
   ],
   "source": [
    "use_forward(100,100,1)"
   ]
  },
  {
   "cell_type": "code",
   "execution_count": 146,
   "metadata": {},
   "outputs": [
    {
     "name": "stdout",
     "output_type": "stream",
     "text": [
      "4403056638\n"
     ]
    }
   ],
   "source": [
    "use_forward(347,2281,829)"
   ]
  },
  {
   "cell_type": "markdown",
   "metadata": {},
   "source": [
    "# if n>3000 python prohibit the recursion and has to use for loop"
   ]
  },
  {
   "cell_type": "code",
   "execution_count": 153,
   "metadata": {},
   "outputs": [],
   "source": [
    "n = int(1.26E6)\n",
    "k = int(4.17E6)\n",
    "j=1"
   ]
  },
  {
   "cell_type": "code",
   "execution_count": 167,
   "metadata": {},
   "outputs": [
    {
     "name": "stdout",
     "output_type": "stream",
     "text": [
      "6 7\n"
     ]
    }
   ],
   "source": [
    "n = 4\n",
    "k = 4\n",
    "\n",
    "for i in range(2,5):\n",
    "    if i==2:\n",
    "        num_1 = 0\n",
    "        num_oth =1\n",
    "    else:\n",
    "        num_1_new = num_oth*(k-1) \n",
    "        num_oth_new = num_1 + num_oth*(k-2)\n",
    "        num_1 = num_1_new\n",
    "        num_oth = num_oth_new\n",
    "        \n",
    "print(num_1, num_oth)\n",
    "    "
   ]
  },
  {
   "cell_type": "code",
   "execution_count": 176,
   "metadata": {},
   "outputs": [],
   "source": [
    "def loop_forward(n,k):\n",
    "    ''' n >=3\n",
    "    find all possible sequence for both\n",
    "    j=1 and j != 1\n",
    "    return only modulo of 10**10 +7\n",
    "    suitable for a large number '''\n",
    "    modulo = 10**10 +7\n",
    "    for i in range(2,n+1):\n",
    "        if i==2:\n",
    "            num_1 = 0\n",
    "            num_oth = 1\n",
    "        else:\n",
    "            num_1_new = ((num_oth%modulo)*((k-1)%modulo))%modulo \n",
    "            num_oth_new = (num_1%modulo) + ((num_oth%modulo)*((k-2)%modulo))%modulo\n",
    "            num_1 = num_1_new\n",
    "            num_oth = num_oth_new\n",
    "    \n",
    "    return (num_1, num_oth)"
   ]
  },
  {
   "cell_type": "code",
   "execution_count": 184,
   "metadata": {},
   "outputs": [],
   "source": [
    "def use_loop_forward(n,k,j):\n",
    "    '''\n",
    "    n >=3\n",
    "    select a return case \n",
    "    '''\n",
    "    if j==1:\n",
    "        print('number of sequency =', loop_forward(n,k)[0])\n",
    "    else:\n",
    "        print('number of sequency =', loop_forward(n,k)[1])"
   ]
  },
  {
   "cell_type": "code",
   "execution_count": 188,
   "metadata": {},
   "outputs": [
    {
     "name": "stdout",
     "output_type": "stream",
     "text": [
      "number of sequency = 7\n"
     ]
    }
   ],
   "source": [
    "use_loop_forward(4,4,2)"
   ]
  },
  {
   "cell_type": "code",
   "execution_count": 189,
   "metadata": {},
   "outputs": [
    {
     "name": "stdout",
     "output_type": "stream",
     "text": [
      "number of sequency = 9702\n"
     ]
    }
   ],
   "source": [
    "use_loop_forward(4,100,1)"
   ]
  },
  {
   "cell_type": "code",
   "execution_count": 191,
   "metadata": {},
   "outputs": [
    {
     "name": "stdout",
     "output_type": "stream",
     "text": [
      "number of sequency = 7934293301\n",
      "number of sequency = 4403056638\n"
     ]
    }
   ],
   "source": [
    "use_loop_forward(100,100,1)\n",
    "use_loop_forward(347,2281,829)"
   ]
  },
  {
   "cell_type": "code",
   "execution_count": 185,
   "metadata": {},
   "outputs": [
    {
     "name": "stdout",
     "output_type": "stream",
     "text": [
      "number of sequency = 1926411550\n"
     ]
    }
   ],
   "source": [
    "use_loop_forward(int(1.26E6),int(4.17E6),1)"
   ]
  },
  {
   "cell_type": "code",
   "execution_count": 186,
   "metadata": {},
   "outputs": [
    {
     "name": "stdout",
     "output_type": "stream",
     "text": [
      "number of sequency = 8051788353\n"
     ]
    }
   ],
   "source": [
    "use_loop_forward(int(1E7),int(1E12),829)"
   ]
  },
  {
   "cell_type": "code",
   "execution_count": null,
   "metadata": {},
   "outputs": [],
   "source": []
  }
 ],
 "metadata": {
  "kernelspec": {
   "display_name": "Python 3",
   "language": "python",
   "name": "python3"
  },
  "language_info": {
   "codemirror_mode": {
    "name": "ipython",
    "version": 3
   },
   "file_extension": ".py",
   "mimetype": "text/x-python",
   "name": "python",
   "nbconvert_exporter": "python",
   "pygments_lexer": "ipython3",
   "version": "3.6.8"
  }
 },
 "nbformat": 4,
 "nbformat_minor": 2
}
