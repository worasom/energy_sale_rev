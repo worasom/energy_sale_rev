{
 "cells": [
  {
   "cell_type": "markdown",
   "metadata": {},
   "source": [
    "# Download with API\n",
    "\n",
    "1. Download population data by State from St. Louis Fred Economic Data\n",
    "2. Annual GDP by State from St. Louis Fred Economic Data\n",
    "3. Quarter GDP by State from St. Louis Fred Economic Data\n",
    "4. Total Personal Income by State from St. Louis Fred Economic Data\n",
    "5. Unemployment Rate by State from St. Louis Fred Economic Data"
   ]
  },
  {
   "cell_type": "code",
   "execution_count": 1,
   "metadata": {},
   "outputs": [],
   "source": [
    "# import module\n",
    "import sys\n",
    "sys.path.append(r'C:\\Users\\Benny\\fastai\\old')\n",
    "from pathlib import Path\n",
    "from fastai.imports import *\n",
    "import requests\n",
    "import wget\n",
    "from bs4 import BeautifulSoup\n",
    "from selenium import webdriver \n",
    "from datetime import datetime, date\n",
    "import time"
   ]
  },
  {
   "cell_type": "markdown",
   "metadata": {},
   "source": [
    "# Population by state "
   ]
  },
  {
   "cell_type": "code",
   "execution_count": null,
   "metadata": {},
   "outputs": [],
   "source": [
    "browser = webdriver.Firefox() "
   ]
  },
  {
   "cell_type": "code",
   "execution_count": 45,
   "metadata": {},
   "outputs": [],
   "source": [
    "def download_pop(state_name):\n",
    "    'auto download population by statename'\n",
    "    url = 'https://fred.stlouisfed.org/series/'+ state_name+'POP'\n",
    "    print(url)\n",
    "    \n",
    "    # open the website\n",
    "    browser.get(url)\n",
    "    time.sleep(10)\n",
    "    #click download button\n",
    "    button = browser.find_element_by_id('download-button')\n",
    "    button.click()\n",
    "    \n",
    "    time.sleep(10)\n",
    "    download = browser.find_element_by_id('download-data-csv')\n",
    "    download.click()"
   ]
  },
  {
   "cell_type": "code",
   "execution_count": 42,
   "metadata": {},
   "outputs": [],
   "source": [
    "state_names = [\"AL\", \"AK\", \"AZ\", \"AR\", \"CA\", \"CO\", \"CT\", \"DC\", \"DE\", \"FL\", \"GA\", \n",
    "          \"HI\", \"ID\", \"IL\", \"IN\", \"IA\", \"KS\", \"KY\", \"LA\", \"ME\", \"MD\", \n",
    "          \"MA\", \"MI\", \"MN\", \"MS\", \"MO\", \"MT\", \"NE\", \"NV\", \"NH\", \"NJ\", \n",
    "          \"NM\", \"NY\", \"NC\", \"ND\", \"OH\", \"OK\", \"OR\", \"PA\", \"RI\", \"SC\", \n",
    "          \"SD\", \"TN\", \"TX\", \"UT\", \"VT\", \"VA\", \"WA\", \"WV\", \"WI\", \"WY\"]"
   ]
  },
  {
   "cell_type": "code",
   "execution_count": 43,
   "metadata": {},
   "outputs": [
    {
     "data": {
      "text/plain": [
       "51"
      ]
     },
     "execution_count": 43,
     "metadata": {},
     "output_type": "execute_result"
    }
   ],
   "source": [
    "len(state_names)"
   ]
  },
  {
   "cell_type": "code",
   "execution_count": 46,
   "metadata": {},
   "outputs": [
    {
     "name": "stdout",
     "output_type": "stream",
     "text": [
      "https://fred.stlouisfed.org/series/ALPOP\n",
      "https://fred.stlouisfed.org/series/AKPOP\n",
      "https://fred.stlouisfed.org/series/AZPOP\n",
      "https://fred.stlouisfed.org/series/ARPOP\n",
      "https://fred.stlouisfed.org/series/CAPOP\n",
      "https://fred.stlouisfed.org/series/COPOP\n",
      "https://fred.stlouisfed.org/series/CTPOP\n",
      "https://fred.stlouisfed.org/series/DCPOP\n",
      "https://fred.stlouisfed.org/series/DEPOP\n",
      "https://fred.stlouisfed.org/series/FLPOP\n",
      "https://fred.stlouisfed.org/series/GAPOP\n",
      "https://fred.stlouisfed.org/series/HIPOP\n",
      "https://fred.stlouisfed.org/series/IDPOP\n",
      "https://fred.stlouisfed.org/series/ILPOP\n",
      "https://fred.stlouisfed.org/series/INPOP\n",
      "https://fred.stlouisfed.org/series/IAPOP\n",
      "https://fred.stlouisfed.org/series/KSPOP\n",
      "https://fred.stlouisfed.org/series/KYPOP\n",
      "https://fred.stlouisfed.org/series/LAPOP\n",
      "https://fred.stlouisfed.org/series/MEPOP\n",
      "https://fred.stlouisfed.org/series/MDPOP\n",
      "https://fred.stlouisfed.org/series/MAPOP\n",
      "https://fred.stlouisfed.org/series/MIPOP\n",
      "https://fred.stlouisfed.org/series/MNPOP\n",
      "https://fred.stlouisfed.org/series/MSPOP\n",
      "https://fred.stlouisfed.org/series/MOPOP\n",
      "https://fred.stlouisfed.org/series/MTPOP\n",
      "https://fred.stlouisfed.org/series/NEPOP\n",
      "https://fred.stlouisfed.org/series/NVPOP\n",
      "https://fred.stlouisfed.org/series/NHPOP\n",
      "https://fred.stlouisfed.org/series/NJPOP\n",
      "https://fred.stlouisfed.org/series/NMPOP\n",
      "https://fred.stlouisfed.org/series/NYPOP\n",
      "https://fred.stlouisfed.org/series/NCPOP\n",
      "https://fred.stlouisfed.org/series/NDPOP\n",
      "https://fred.stlouisfed.org/series/OHPOP\n",
      "https://fred.stlouisfed.org/series/OKPOP\n",
      "https://fred.stlouisfed.org/series/ORPOP\n",
      "https://fred.stlouisfed.org/series/PAPOP\n",
      "https://fred.stlouisfed.org/series/RIPOP\n",
      "https://fred.stlouisfed.org/series/SCPOP\n",
      "https://fred.stlouisfed.org/series/SDPOP\n",
      "https://fred.stlouisfed.org/series/TNPOP\n",
      "https://fred.stlouisfed.org/series/TXPOP\n",
      "https://fred.stlouisfed.org/series/UTPOP\n",
      "https://fred.stlouisfed.org/series/VTPOP\n",
      "https://fred.stlouisfed.org/series/VAPOP\n",
      "https://fred.stlouisfed.org/series/WAPOP\n",
      "https://fred.stlouisfed.org/series/WVPOP\n",
      "https://fred.stlouisfed.org/series/WIPOP\n",
      "https://fred.stlouisfed.org/series/WYPOP\n"
     ]
    }
   ],
   "source": [
    "for state_name in state_names:\n",
    "    download_pop(state_name)"
   ]
  },
  {
   "cell_type": "markdown",
   "metadata": {},
   "source": [
    "# Annual GDP "
   ]
  },
  {
   "cell_type": "code",
   "execution_count": 4,
   "metadata": {},
   "outputs": [],
   "source": [
    "browser = webdriver.Firefox() "
   ]
  },
  {
   "cell_type": "code",
   "execution_count": 1,
   "metadata": {},
   "outputs": [
    {
     "data": {
      "text/plain": [
       "51"
      ]
     },
     "execution_count": 1,
     "metadata": {},
     "output_type": "execute_result"
    }
   ],
   "source": [
    "state_names = [\"AL\", \"AK\", \"AZ\", \"AR\", \"CA\", \"CO\", \"CT\", \"DC\", \"DE\", \"FL\", \"GA\", \n",
    "          \"HI\", \"ID\", \"IL\", \"IN\", \"IA\", \"KS\", \"KY\", \"LA\", \"ME\", \"MD\", \n",
    "          \"MA\", \"MI\", \"MN\", \"MS\", \"MO\", \"MT\", \"NE\", \"NV\", \"NH\", \"NJ\", \n",
    "          \"NM\", \"NY\", \"NC\", \"ND\", \"OH\", \"OK\", \"OR\", \"PA\", \"RI\", \"SC\", \n",
    "          \"SD\", \"TN\", \"TX\", \"UT\", \"VT\", \"VA\", \"WA\", \"WV\", \"WI\", \"WY\"]\n",
    "len(state_names)"
   ]
  },
  {
   "cell_type": "code",
   "execution_count": 9,
   "metadata": {},
   "outputs": [],
   "source": [
    "def download_gdp(state_name):\n",
    "    'auto download Annual GDP by statename'\n",
    "    url = 'https://fred.stlouisfed.org/series/'+ state_name+'NGSP'\n",
    "    print(url)\n",
    "    \n",
    "    # open the website\n",
    "    browser.get(url)\n",
    "    time.sleep(10)\n",
    "    #clock download button\n",
    "    button = browser.find_element_by_id('download-button')\n",
    "    button.click()\n",
    "    \n",
    "    time.sleep(10)\n",
    "    download = browser.find_element_by_id('download-data-csv')\n",
    "    download.click()"
   ]
  },
  {
   "cell_type": "code",
   "execution_count": 10,
   "metadata": {},
   "outputs": [
    {
     "name": "stdout",
     "output_type": "stream",
     "text": [
      "https://fred.stlouisfed.org/series/ALNGSP\n",
      "https://fred.stlouisfed.org/series/AKNGSP\n",
      "https://fred.stlouisfed.org/series/AZNGSP\n",
      "https://fred.stlouisfed.org/series/ARNGSP\n",
      "https://fred.stlouisfed.org/series/CANGSP\n",
      "https://fred.stlouisfed.org/series/CONGSP\n",
      "https://fred.stlouisfed.org/series/CTNGSP\n",
      "https://fred.stlouisfed.org/series/DCNGSP\n",
      "https://fred.stlouisfed.org/series/DENGSP\n",
      "https://fred.stlouisfed.org/series/FLNGSP\n",
      "https://fred.stlouisfed.org/series/GANGSP\n",
      "https://fred.stlouisfed.org/series/HINGSP\n",
      "https://fred.stlouisfed.org/series/IDNGSP\n",
      "https://fred.stlouisfed.org/series/ILNGSP\n",
      "https://fred.stlouisfed.org/series/INNGSP\n",
      "https://fred.stlouisfed.org/series/IANGSP\n",
      "https://fred.stlouisfed.org/series/KSNGSP\n",
      "https://fred.stlouisfed.org/series/KYNGSP\n",
      "https://fred.stlouisfed.org/series/LANGSP\n",
      "https://fred.stlouisfed.org/series/MENGSP\n",
      "https://fred.stlouisfed.org/series/MDNGSP\n",
      "https://fred.stlouisfed.org/series/MANGSP\n",
      "https://fred.stlouisfed.org/series/MINGSP\n",
      "https://fred.stlouisfed.org/series/MNNGSP\n",
      "https://fred.stlouisfed.org/series/MSNGSP\n",
      "https://fred.stlouisfed.org/series/MONGSP\n",
      "https://fred.stlouisfed.org/series/MTNGSP\n",
      "https://fred.stlouisfed.org/series/NENGSP\n",
      "https://fred.stlouisfed.org/series/NVNGSP\n",
      "https://fred.stlouisfed.org/series/NHNGSP\n",
      "https://fred.stlouisfed.org/series/NJNGSP\n",
      "https://fred.stlouisfed.org/series/NMNGSP\n",
      "https://fred.stlouisfed.org/series/NYNGSP\n",
      "https://fred.stlouisfed.org/series/NCNGSP\n",
      "https://fred.stlouisfed.org/series/NDNGSP\n",
      "https://fred.stlouisfed.org/series/OHNGSP\n",
      "https://fred.stlouisfed.org/series/OKNGSP\n",
      "https://fred.stlouisfed.org/series/ORNGSP\n",
      "https://fred.stlouisfed.org/series/PANGSP\n",
      "https://fred.stlouisfed.org/series/RINGSP\n",
      "https://fred.stlouisfed.org/series/SCNGSP\n",
      "https://fred.stlouisfed.org/series/SDNGSP\n",
      "https://fred.stlouisfed.org/series/TNNGSP\n",
      "https://fred.stlouisfed.org/series/TXNGSP\n",
      "https://fred.stlouisfed.org/series/UTNGSP\n",
      "https://fred.stlouisfed.org/series/VTNGSP\n",
      "https://fred.stlouisfed.org/series/VANGSP\n",
      "https://fred.stlouisfed.org/series/WANGSP\n",
      "https://fred.stlouisfed.org/series/WVNGSP\n",
      "https://fred.stlouisfed.org/series/WINGSP\n",
      "https://fred.stlouisfed.org/series/WYNGSP\n"
     ]
    }
   ],
   "source": [
    "for state_name in state_names:\n",
    "    download_gdp(state_name)"
   ]
  },
  {
   "cell_type": "markdown",
   "metadata": {},
   "source": [
    "# Quarter GDP"
   ]
  },
  {
   "cell_type": "code",
   "execution_count": 8,
   "metadata": {},
   "outputs": [],
   "source": [
    "def download_qgdp(state_name):\n",
    "    'auto download quarter GDP by statename'\n",
    "    url = 'https://fred.stlouisfed.org/series/'+ state_name+'NQGSP'\n",
    "    print(url)\n",
    "    \n",
    "    # open the website\n",
    "    browser.get(url)\n",
    "    time.sleep(10)\n",
    "    #click download button\n",
    "    button = browser.find_element_by_id('download-button')\n",
    "    button.click()\n",
    "    \n",
    "    time.sleep(10)\n",
    "    download = browser.find_element_by_id('download-data-csv')\n",
    "    download.click()"
   ]
  },
  {
   "cell_type": "code",
   "execution_count": 11,
   "metadata": {},
   "outputs": [
    {
     "name": "stdout",
     "output_type": "stream",
     "text": [
      "https://fred.stlouisfed.org/series/ALNQGSP\n",
      "https://fred.stlouisfed.org/series/AKNQGSP\n",
      "https://fred.stlouisfed.org/series/AZNQGSP\n",
      "https://fred.stlouisfed.org/series/ARNQGSP\n",
      "https://fred.stlouisfed.org/series/CANQGSP\n",
      "https://fred.stlouisfed.org/series/CONQGSP\n",
      "https://fred.stlouisfed.org/series/CTNQGSP\n",
      "https://fred.stlouisfed.org/series/DCNQGSP\n",
      "https://fred.stlouisfed.org/series/DENQGSP\n",
      "https://fred.stlouisfed.org/series/FLNQGSP\n",
      "https://fred.stlouisfed.org/series/GANQGSP\n",
      "https://fred.stlouisfed.org/series/HINQGSP\n",
      "https://fred.stlouisfed.org/series/IDNQGSP\n",
      "https://fred.stlouisfed.org/series/ILNQGSP\n",
      "https://fred.stlouisfed.org/series/INNQGSP\n",
      "https://fred.stlouisfed.org/series/IANQGSP\n",
      "https://fred.stlouisfed.org/series/KSNQGSP\n",
      "https://fred.stlouisfed.org/series/KYNQGSP\n",
      "https://fred.stlouisfed.org/series/LANQGSP\n",
      "https://fred.stlouisfed.org/series/MENQGSP\n",
      "https://fred.stlouisfed.org/series/MDNQGSP\n",
      "https://fred.stlouisfed.org/series/MANQGSP\n",
      "https://fred.stlouisfed.org/series/MINQGSP\n",
      "https://fred.stlouisfed.org/series/MNNQGSP\n",
      "https://fred.stlouisfed.org/series/MSNQGSP\n",
      "https://fred.stlouisfed.org/series/MONQGSP\n",
      "https://fred.stlouisfed.org/series/MTNQGSP\n",
      "https://fred.stlouisfed.org/series/NENQGSP\n",
      "https://fred.stlouisfed.org/series/NVNQGSP\n",
      "https://fred.stlouisfed.org/series/NHNQGSP\n",
      "https://fred.stlouisfed.org/series/NJNQGSP\n",
      "https://fred.stlouisfed.org/series/NMNQGSP\n",
      "https://fred.stlouisfed.org/series/NYNQGSP\n",
      "https://fred.stlouisfed.org/series/NCNQGSP\n",
      "https://fred.stlouisfed.org/series/NDNQGSP\n",
      "https://fred.stlouisfed.org/series/OHNQGSP\n",
      "https://fred.stlouisfed.org/series/OKNQGSP\n",
      "https://fred.stlouisfed.org/series/ORNQGSP\n",
      "https://fred.stlouisfed.org/series/PANQGSP\n",
      "https://fred.stlouisfed.org/series/RINQGSP\n",
      "https://fred.stlouisfed.org/series/SCNQGSP\n",
      "https://fred.stlouisfed.org/series/SDNQGSP\n",
      "https://fred.stlouisfed.org/series/TNNQGSP\n",
      "https://fred.stlouisfed.org/series/TXNQGSP\n",
      "https://fred.stlouisfed.org/series/UTNQGSP\n",
      "https://fred.stlouisfed.org/series/VTNQGSP\n",
      "https://fred.stlouisfed.org/series/VANQGSP\n",
      "https://fred.stlouisfed.org/series/WANQGSP\n",
      "https://fred.stlouisfed.org/series/WVNQGSP\n",
      "https://fred.stlouisfed.org/series/WINQGSP\n",
      "https://fred.stlouisfed.org/series/WYNQGSP\n"
     ]
    }
   ],
   "source": [
    "for state_name in state_names:\n",
    "    download_qgdp(state_name)"
   ]
  },
  {
   "cell_type": "markdown",
   "metadata": {},
   "source": [
    "# Total Personal Income"
   ]
  },
  {
   "cell_type": "code",
   "execution_count": 12,
   "metadata": {},
   "outputs": [],
   "source": [
    "def download_income(state_name):\n",
    "    'auto download total personal income by statename'\n",
    "    url = 'https://fred.stlouisfed.org/series/'+ state_name+'OTOT'\n",
    "    print(url)\n",
    "    \n",
    "    # open the website\n",
    "    browser.get(url)\n",
    "    time.sleep(10)\n",
    "    # click download button\n",
    "    button = browser.find_element_by_id('download-button')\n",
    "    button.click()\n",
    "    \n",
    "    time.sleep(10)\n",
    "    download = browser.find_element_by_id('download-data-csv')\n",
    "    download.click()"
   ]
  },
  {
   "cell_type": "code",
   "execution_count": 13,
   "metadata": {},
   "outputs": [
    {
     "name": "stdout",
     "output_type": "stream",
     "text": [
      "https://fred.stlouisfed.org/series/ALOTOT\n",
      "https://fred.stlouisfed.org/series/AKOTOT\n",
      "https://fred.stlouisfed.org/series/AZOTOT\n",
      "https://fred.stlouisfed.org/series/AROTOT\n",
      "https://fred.stlouisfed.org/series/CAOTOT\n",
      "https://fred.stlouisfed.org/series/COOTOT\n",
      "https://fred.stlouisfed.org/series/CTOTOT\n",
      "https://fred.stlouisfed.org/series/DCOTOT\n",
      "https://fred.stlouisfed.org/series/DEOTOT\n",
      "https://fred.stlouisfed.org/series/FLOTOT\n",
      "https://fred.stlouisfed.org/series/GAOTOT\n",
      "https://fred.stlouisfed.org/series/HIOTOT\n",
      "https://fred.stlouisfed.org/series/IDOTOT\n",
      "https://fred.stlouisfed.org/series/ILOTOT\n",
      "https://fred.stlouisfed.org/series/INOTOT\n",
      "https://fred.stlouisfed.org/series/IAOTOT\n",
      "https://fred.stlouisfed.org/series/KSOTOT\n",
      "https://fred.stlouisfed.org/series/KYOTOT\n",
      "https://fred.stlouisfed.org/series/LAOTOT\n",
      "https://fred.stlouisfed.org/series/MEOTOT\n",
      "https://fred.stlouisfed.org/series/MDOTOT\n",
      "https://fred.stlouisfed.org/series/MAOTOT\n",
      "https://fred.stlouisfed.org/series/MIOTOT\n",
      "https://fred.stlouisfed.org/series/MNOTOT\n",
      "https://fred.stlouisfed.org/series/MSOTOT\n",
      "https://fred.stlouisfed.org/series/MOOTOT\n",
      "https://fred.stlouisfed.org/series/MTOTOT\n",
      "https://fred.stlouisfed.org/series/NEOTOT\n",
      "https://fred.stlouisfed.org/series/NVOTOT\n",
      "https://fred.stlouisfed.org/series/NHOTOT\n",
      "https://fred.stlouisfed.org/series/NJOTOT\n",
      "https://fred.stlouisfed.org/series/NMOTOT\n",
      "https://fred.stlouisfed.org/series/NYOTOT\n",
      "https://fred.stlouisfed.org/series/NCOTOT\n",
      "https://fred.stlouisfed.org/series/NDOTOT\n",
      "https://fred.stlouisfed.org/series/OHOTOT\n",
      "https://fred.stlouisfed.org/series/OKOTOT\n",
      "https://fred.stlouisfed.org/series/OROTOT\n",
      "https://fred.stlouisfed.org/series/PAOTOT\n",
      "https://fred.stlouisfed.org/series/RIOTOT\n",
      "https://fred.stlouisfed.org/series/SCOTOT\n",
      "https://fred.stlouisfed.org/series/SDOTOT\n",
      "https://fred.stlouisfed.org/series/TNOTOT\n",
      "https://fred.stlouisfed.org/series/TXOTOT\n",
      "https://fred.stlouisfed.org/series/UTOTOT\n",
      "https://fred.stlouisfed.org/series/VTOTOT\n",
      "https://fred.stlouisfed.org/series/VAOTOT\n",
      "https://fred.stlouisfed.org/series/WAOTOT\n",
      "https://fred.stlouisfed.org/series/WVOTOT\n",
      "https://fred.stlouisfed.org/series/WIOTOT\n",
      "https://fred.stlouisfed.org/series/WYOTOT\n"
     ]
    }
   ],
   "source": [
    "for state_name in state_names:\n",
    "    download_income(state_name)"
   ]
  },
  {
   "cell_type": "markdown",
   "metadata": {},
   "source": [
    "# Unemployment Rate \n"
   ]
  },
  {
   "cell_type": "code",
   "execution_count": 19,
   "metadata": {},
   "outputs": [],
   "source": [
    "def download_unemploy(state_name):\n",
    "    'auto download unemployment by statename'\n",
    "    url = 'https://fred.stlouisfed.org/series/'+ state_name+'UR'\n",
    "    print(url)\n",
    "    \n",
    "    # open the website\n",
    "    browser.get(url)\n",
    "    time.sleep(10)\n",
    "    # click download button\n",
    "    button = browser.find_element_by_id('download-button')\n",
    "    button.click()\n",
    "    \n",
    "    time.sleep(10)\n",
    "    download = browser.find_element_by_id('download-data-csv')\n",
    "    download.click()"
   ]
  },
  {
   "cell_type": "code",
   "execution_count": 15,
   "metadata": {},
   "outputs": [
    {
     "name": "stdout",
     "output_type": "stream",
     "text": [
      "https://fred.stlouisfed.org/series/ALUR\n",
      "https://fred.stlouisfed.org/series/AKUR\n",
      "https://fred.stlouisfed.org/series/AZUR\n",
      "https://fred.stlouisfed.org/series/ARUR\n",
      "https://fred.stlouisfed.org/series/CAUR\n",
      "https://fred.stlouisfed.org/series/COUR\n",
      "https://fred.stlouisfed.org/series/CTUR\n",
      "https://fred.stlouisfed.org/series/DCUR\n",
      "https://fred.stlouisfed.org/series/DEUR\n",
      "https://fred.stlouisfed.org/series/FLUR\n",
      "https://fred.stlouisfed.org/series/GAUR\n",
      "https://fred.stlouisfed.org/series/HIUR\n",
      "https://fred.stlouisfed.org/series/IDUR\n",
      "https://fred.stlouisfed.org/series/ILUR\n",
      "https://fred.stlouisfed.org/series/INUR\n",
      "https://fred.stlouisfed.org/series/IAUR\n",
      "https://fred.stlouisfed.org/series/KSUR\n",
      "https://fred.stlouisfed.org/series/KYUR\n",
      "https://fred.stlouisfed.org/series/LAUR\n",
      "https://fred.stlouisfed.org/series/MEUR\n",
      "https://fred.stlouisfed.org/series/MDUR\n",
      "https://fred.stlouisfed.org/series/MAUR\n",
      "https://fred.stlouisfed.org/series/MIUR\n",
      "https://fred.stlouisfed.org/series/MNUR\n",
      "https://fred.stlouisfed.org/series/MSUR\n",
      "https://fred.stlouisfed.org/series/MOUR\n",
      "https://fred.stlouisfed.org/series/MTUR\n",
      "https://fred.stlouisfed.org/series/NEUR\n",
      "https://fred.stlouisfed.org/series/NVUR\n",
      "https://fred.stlouisfed.org/series/NHUR\n",
      "https://fred.stlouisfed.org/series/NJUR\n",
      "https://fred.stlouisfed.org/series/NMUR\n",
      "https://fred.stlouisfed.org/series/NYUR\n",
      "https://fred.stlouisfed.org/series/NCUR\n",
      "https://fred.stlouisfed.org/series/NDUR\n",
      "https://fred.stlouisfed.org/series/OHUR\n",
      "https://fred.stlouisfed.org/series/OKUR\n",
      "https://fred.stlouisfed.org/series/ORUR\n",
      "https://fred.stlouisfed.org/series/PAUR\n",
      "https://fred.stlouisfed.org/series/RIUR\n",
      "https://fred.stlouisfed.org/series/SCUR\n",
      "https://fred.stlouisfed.org/series/SDUR\n",
      "https://fred.stlouisfed.org/series/TNUR\n",
      "https://fred.stlouisfed.org/series/TXUR\n",
      "https://fred.stlouisfed.org/series/UTUR\n",
      "https://fred.stlouisfed.org/series/VTUR\n",
      "https://fred.stlouisfed.org/series/VAUR\n",
      "https://fred.stlouisfed.org/series/WAUR\n",
      "https://fred.stlouisfed.org/series/WVUR\n",
      "https://fred.stlouisfed.org/series/WIUR\n",
      "https://fred.stlouisfed.org/series/WYUR\n"
     ]
    }
   ],
   "source": [
    "for state_name in state_names:\n",
    "    download_unemploy(state_name)"
   ]
  },
  {
   "cell_type": "code",
   "execution_count": null,
   "metadata": {},
   "outputs": [],
   "source": []
  }
 ],
 "metadata": {
  "kernelspec": {
   "display_name": "Python 3",
   "language": "python",
   "name": "python3"
  },
  "language_info": {
   "codemirror_mode": {
    "name": "ipython",
    "version": 3
   },
   "file_extension": ".py",
   "mimetype": "text/x-python",
   "name": "python",
   "nbconvert_exporter": "python",
   "pygments_lexer": "ipython3",
   "version": "3.6.8"
  }
 },
 "nbformat": 4,
 "nbformat_minor": 2
}
