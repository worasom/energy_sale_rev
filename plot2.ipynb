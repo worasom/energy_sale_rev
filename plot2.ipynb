{
 "cells": [
  {
   "cell_type": "markdown",
   "metadata": {},
   "source": [
    "# Predicting Monthly Electricity Consumption Plot 2\n"
   ]
  },
  {
   "cell_type": "code",
   "execution_count": 51,
   "metadata": {},
   "outputs": [
    {
     "name": "stdout",
     "output_type": "stream",
     "text": [
      "The autoreload extension is already loaded. To reload it, use:\n",
      "  %reload_ext autoreload\n"
     ]
    }
   ],
   "source": [
    "# import the library\n",
    "%config IPCompleter.greedy=True\n",
    "%load_ext autoreload\n",
    "%matplotlib inline\n",
    "from IPython.display import display\n",
    "import pandas as pd\n",
    "import matplotlib.pyplot as plt\n",
    "import matplotlib\n",
    "from matplotlib import cm\n",
    "import numpy as np"
   ]
  },
  {
   "cell_type": "code",
   "execution_count": 40,
   "metadata": {},
   "outputs": [],
   "source": [
    "cleanfolder = 'E:/Users/Fern/energy_data/clean/'\n",
    "mfolder = 'E:/Users/Fern/energy_data/'"
   ]
  },
  {
   "cell_type": "code",
   "execution_count": 41,
   "metadata": {},
   "outputs": [],
   "source": [
    "us_state_abbrev = {\n",
    "    'Alabama': 'AL',\n",
    "    'Alaska': 'AK',\n",
    "    'Arizona': 'AZ',\n",
    "    'Arkansas': 'AR',\n",
    "    'California': 'CA',\n",
    "    'Colorado': 'CO',\n",
    "    'Connecticut': 'CT',\n",
    "    'District of Columbia':'DC',\n",
    "    'Delaware': 'DE',\n",
    "    'Florida': 'FL',\n",
    "    'Georgia': 'GA',\n",
    "    'Hawaii': 'HI',\n",
    "    'Idaho': 'ID',\n",
    "    'Illinois': 'IL',\n",
    "    'Indiana': 'IN',\n",
    "    'Iowa': 'IA',\n",
    "    'Kansas': 'KS',\n",
    "    'Kentucky': 'KY',\n",
    "    'Louisiana': 'LA',\n",
    "    'Maine': 'ME',\n",
    "    'Maryland': 'MD',\n",
    "    'Massachusetts': 'MA',\n",
    "    'Michigan': 'MI',\n",
    "    'Minnesota': 'MN',\n",
    "    'Mississippi': 'MS',\n",
    "    'Missouri': 'MO',\n",
    "    'Montana': 'MT',\n",
    "    'Nebraska': 'NE',\n",
    "    'Nevada': 'NV',\n",
    "    'New Hampshire': 'NH',\n",
    "    'New Jersey': 'NJ',\n",
    "    'New Mexico': 'NM',\n",
    "    'New York': 'NY',\n",
    "    'North Carolina': 'NC',\n",
    "    'North Dakota': 'ND',\n",
    "    'Ohio': 'OH',\n",
    "    'Oklahoma': 'OK',\n",
    "    'Oregon': 'OR',\n",
    "    'Pennsylvania': 'PA',\n",
    "    'Rhode Island': 'RI',\n",
    "    'South Carolina': 'SC',\n",
    "    'South Dakota': 'SD',\n",
    "    'Tennessee': 'TN',\n",
    "    'Texas': 'TX',\n",
    "    'Utah': 'UT',\n",
    "    'Vermont': 'VT',\n",
    "    'Virginia': 'VA',\n",
    "    'Washington': 'WA',\n",
    "    'West Virginia': 'WV',\n",
    "    'Wisconsin': 'WI',\n",
    "    'Wyoming': 'WY'\n",
    "}"
   ]
  },
  {
   "cell_type": "code",
   "execution_count": 42,
   "metadata": {},
   "outputs": [],
   "source": [
    "combine = pd.read_csv(cleanfolder+'combine.csv').dropna()\n",
    "combine['Year-Month'] = pd.to_datetime(combine['Year-Month'])\n",
    "combine = combine.set_index('Year-Month')\n",
    "# set State and Regions columns as category \n",
    "combine['State'] = combine['State'].astype('category')\n",
    "combine['Regions'] = combine['Regions'].astype('category')"
   ]
  },
  {
   "cell_type": "code",
   "execution_count": 43,
   "metadata": {},
   "outputs": [],
   "source": [
    "combine['Sale_RES_per_cap'] = combine['Sale_RES']/combine['Pop']\n",
    "combine['Sale_COM_per_cap'] = combine['Sale_COM']/combine['Pop']\n",
    "combine['Sale_IND_per_cap'] = combine['Sale_IND']/combine['Pop']\n",
    "combine['Cus_RES_per_cap'] = combine['Cus_RES']/combine['Pop']\n",
    "combine['Cus_COM_per_cap'] = combine['Cus_COM']/combine['Pop']\n",
    "combine['Cus_IND_per_cap'] = combine['Cus_IND']/combine['Pop']"
   ]
  },
  {
   "cell_type": "code",
   "execution_count": 44,
   "metadata": {},
   "outputs": [],
   "source": [
    "state_location = pd.read_html('https://inkplant.com/code/state-latitudes-longitudes')[0]\n",
    "state_location['State'] = state_location['State'].replace(to_replace=us_state_abbrev)"
   ]
  },
  {
   "cell_type": "code",
   "execution_count": 45,
   "metadata": {},
   "outputs": [],
   "source": [
    "combine = combine.merge(state_location,on='State')"
   ]
  },
  {
   "cell_type": "code",
   "execution_count": 46,
   "metadata": {},
   "outputs": [
    {
     "data": {
      "text/plain": [
       "Index(['Year', 'Month', 'State', 'Sale_RES', 'Sale_COM', 'Sale_IND',\n",
       "       'Sale_OTH', 'Sale_ALL', 'Price_RES', 'Price_COM', 'Price_IND',\n",
       "       'Price_OTH', 'Price_ALL', 'Rev_RES', 'Rev_COM', 'Rev_IND', 'Rev_OTH',\n",
       "       'Rev_ALL', 'Cus_RES', 'Cus_COM', 'Cus_IND', 'Cus_OTH', 'Cus_ALL',\n",
       "       'Heating_deg_days', 'Cooling_deg_days', 'Pop', 'Income', 'UR', 'GSP',\n",
       "       'CPI', 'Regions', 'Sale_ALL_no_OTH', 'Sale_RES_per_cap',\n",
       "       'Sale_COM_per_cap', 'Sale_IND_per_cap', 'Cus_RES_per_cap',\n",
       "       'Cus_COM_per_cap', 'Cus_IND_per_cap', 'Latitude', 'Longitude'],\n",
       "      dtype='object')"
      ]
     },
     "execution_count": 46,
     "metadata": {},
     "output_type": "execute_result"
    }
   ],
   "source": [
    "combine.columns"
   ]
  },
  {
   "cell_type": "code",
   "execution_count": 47,
   "metadata": {},
   "outputs": [],
   "source": [
    "def get_color(series,cmap=cm.Blues):\n",
    "    ''' obtain hex color map for each value'''\n",
    "    vmin = series.min()\n",
    "    vmax = series.max()\n",
    "    #normalize item number values to colormap\n",
    "    norm = matplotlib.colors.Normalize(vmin=vmin, vmax=vmax)\n",
    "    #colormap values = viridis, jet, spectral\n",
    "    state_colors = [cmap(norm(value)) for value in series.values]\n",
    "    state_colors = [cm.colors.to_hex(color) for color in state_colors]\n",
    "    return state_colors"
   ]
  },
  {
   "cell_type": "code",
   "execution_count": 48,
   "metadata": {},
   "outputs": [],
   "source": [
    "# select data in 2018\n",
    "data = combine[combine['Year']==2018]\n",
    "# group by State and obtain average each columns except for the Regions\n",
    "data = data[['State','Regions','Latitude','Sale_RES_per_cap',\n",
    "             'Sale_COM_per_cap','Sale_IND_per_cap'\n",
    "            ]].groupby('State',as_index=False\n",
    "                      ).agg({'Latitude':'mean','Sale_RES_per_cap':'mean',\n",
    "             'Sale_COM_per_cap':'mean','Sale_IND_per_cap':'mean',\n",
    "                             'Regions':'last'\n",
    "    \n",
    "})"
   ]
  },
  {
   "cell_type": "code",
   "execution_count": 52,
   "metadata": {},
   "outputs": [],
   "source": [
    "# another df groupby 'Region'\n",
    "data2 = combine[combine['Year']==2018].copy()\n",
    "data2 = data2[['Regions','Latitude','Sale_IND_per_cap']].groupby('Regions',as_index=False).mean()\n",
    "# assigned industrial color map\n",
    "ind_colors = get_color(data2['Sale_IND_per_cap'],cm.Paired)\n",
    "data2['IND_color'] = ind_colors\n",
    "# merge with the first data df \n",
    "data = data.merge(data2.drop('Sale_IND_per_cap',axis=1),on='Regions')"
   ]
  },
  {
   "cell_type": "code",
   "execution_count": 53,
   "metadata": {},
   "outputs": [],
   "source": [
    "# sort data \n",
    "data = data.sort_values(['Latitude_y','Latitude_x'],ascending=True)"
   ]
  },
  {
   "cell_type": "code",
   "execution_count": 54,
   "metadata": {},
   "outputs": [],
   "source": [
    "res_colors = get_color(data['Sale_RES_per_cap'])\n",
    "ind_colors = data['IND_color'].values\n",
    "com_colors = get_color(data['Sale_COM_per_cap'],cm.YlGn)"
   ]
  },
  {
   "cell_type": "code",
   "execution_count": 55,
   "metadata": {},
   "outputs": [
    {
     "data": {
      "image/png": "[encoded data removed]",
      "text/plain": [
       "<Figure size 648x864 with 3 Axes>"
      ]
     },
     "metadata": {
      "needs_background": "light"
     },
     "output_type": "display_data"
    }
   ],
   "source": [
    "fig, ax = plt.subplots(1,3, figsize=(9,12))\n",
    "fig.suptitle('electricity consumption per capita by state',y=1.02)\n",
    "ax[0].barh(data['State'],data['Sale_RES_per_cap'],color=res_colors,edgecolor='black')\n",
    "ax[0].set_xlabel('residential',size=12)\n",
    "ax[0].xaxis.set_label_coords(0.5, 1.02)\n",
    "\n",
    "\n",
    "ax[1].barh(data['State'],data['Sale_IND_per_cap'],color=ind_colors,edgecolor='black')\n",
    "ax[1].set_xlabel('industrial',size=12)\n",
    "ax[1].xaxis.set_label_coords(0.5, 1.02)\n",
    "\n",
    "ax[2].barh(data['State'],data['Sale_COM_per_cap'],color=com_colors,edgecolor='black')\n",
    "ax[2].set_xlabel('commercial',size=12)\n",
    "ax[2].xaxis.set_label_coords(0.5, 1.02)\n",
    "\n",
    "\n",
    "plt.tight_layout()"
   ]
  },
  {
   "cell_type": "code",
   "execution_count": null,
   "metadata": {},
   "outputs": [],
   "source": []
  }
 ],
 "metadata": {
  "kernelspec": {
   "display_name": "Python 3",
   "language": "python",
   "name": "python3"
  },
  "language_info": {
   "codemirror_mode": {
    "name": "ipython",
    "version": 3
   },
   "file_extension": ".py",
   "mimetype": "text/x-python",
   "name": "python",
   "nbconvert_exporter": "python",
   "pygments_lexer": "ipython3",
   "version": "3.6.8"
  }
 },
 "nbformat": 4,
 "nbformat_minor": 2
}
